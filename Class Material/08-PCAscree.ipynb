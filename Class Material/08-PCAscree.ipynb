{
 "cells": [
  {
   "cell_type": "markdown",
   "metadata": {
    "slideshow": {
     "slide_type": "slide"
    }
   },
   "source": [
    "<hr/>\n",
    "\n",
    "# Introduction to Data Science\n",
    "**Tamás Budavári** - budavari@jhu.edu <br/>\n",
    "\n",
    "- Eigensystem of covariance matrix\n",
    "- Fitting lines and planes\n",
    "\n",
    "<hr/>"
   ]
  },
  {
   "cell_type": "markdown",
   "metadata": {
    "slideshow": {
     "slide_type": "slide"
    }
   },
   "source": [
    "<h1><font color=\"darkblue\">Recap from last time</font></h1>"
   ]
  },
  {
   "cell_type": "markdown",
   "metadata": {},
   "source": [
    "### Eigendecomposition \n",
    "\n",
    "> $ C = E\\,\\Lambda\\,E^T$ and $E^T C\\,E = \\Lambda$ since $E^T E=I$\n",
    "><br/><br/>\n",
    "> or\n",
    "><br/><br/>\n",
    ">$\\displaystyle C = \\sum_{k=1}^N\\ \\lambda_k\\left(\\boldsymbol{e}_k\\,\\boldsymbol{e}_k^T\\right) \n",
    "= \\sum_{k=1}^N\\ \\lambda_k P_k $"
   ]
  },
  {
   "cell_type": "markdown",
   "metadata": {},
   "source": [
    "### Scree Plot\n",
    "\n",
    "- The eigenvalue spectrum\n",
    "\n",
    ">$ \\big\\{ \\lambda_1, \\lambda_2, \\dots, \\lambda_N \\big\\}$\n",
    "\n",
    "- How many important directions?\n",
    "\n",
    "> Keep $K =\\,?$ principal components\n",
    "\n",
    "- Explained variance of components \n",
    "\n",
    "> Cf. $\\mathbb{Var}[X\\pm{}Y] = \\mathbb{Var}[X]+\\mathbb{Var}[Y]$ if uncorrelated"
   ]
  },
  {
   "cell_type": "markdown",
   "metadata": {},
   "source": [
    "#### Generate data"
   ]
  },
  {
   "cell_type": "code",
   "execution_count": 1,
   "metadata": {},
   "outputs": [
    {
     "name": "stdout",
     "output_type": "stream",
     "text": [
      "Populating the interactive namespace from numpy and matplotlib\n"
     ]
    }
   ],
   "source": [
    "%pylab inline\n",
    "pylab.rcParams['figure.figsize'] = (4,4)"
   ]
  },
  {
   "cell_type": "code",
   "execution_count": 2,
   "metadata": {},
   "outputs": [],
   "source": [
    "from scipy.stats import norm as gaussian\n",
    "import pandas as pd"
   ]
  },
  {
   "cell_type": "code",
   "execution_count": 3,
   "metadata": {},
   "outputs": [
    {
     "name": "stdout",
     "output_type": "stream",
     "text": [
      "(10, 1000)\n"
     ]
    }
   ],
   "source": [
    "# generate 10-D vectors: scale, rotate\n",
    "np.random.seed(1)\n",
    "Z = gaussian.rvs(0,1,(10,1000))\n",
    "if True: # scale them here\n",
    "    for i in range(Z[:,0].size): \n",
    "        Z[i,:] *= sqrt(i)\n",
    "    Z[:4,:] *= 1e-7\n",
    "    \n",
    "# quick-n-dirty random rotation\n",
    "M = random.randn(Z[:,0].size,Z[:,0].size)\n",
    "Q,_ = np.linalg.qr(M) # QR decomposition\n",
    "Y = Q @ Z # random rotation\n",
    "print (Y.shape)\n",
    "np.savetxt(\"temp.csv\", Y.T, delimiter=\",\")"
   ]
  },
  {
   "cell_type": "code",
   "execution_count": 4,
   "metadata": {},
   "outputs": [],
   "source": [
    "# remove all previous variables from memory\n",
    "del Y, M, Q, Z"
   ]
  },
  {
   "cell_type": "code",
   "execution_count": 5,
   "metadata": {},
   "outputs": [
    {
     "name": "stdout",
     "output_type": "stream",
     "text": [
      "Error message: name 'Y' is not defined\n"
     ]
    }
   ],
   "source": [
    "try:\n",
    "    print (\"Shape of Y\" % Y.shape)\n",
    "except NameError as e:\n",
    "    print (\"Error message: %s\" % e)    "
   ]
  },
  {
   "cell_type": "markdown",
   "metadata": {},
   "source": [
    "#### Analyze data\n",
    "\n",
    "Now your data file is available here: [temp.csv](temp.csv)"
   ]
  },
  {
   "cell_type": "code",
   "execution_count": 6,
   "metadata": {},
   "outputs": [
    {
     "data": {
      "text/html": [
       "<div>\n",
       "<style scoped>\n",
       "    .dataframe tbody tr th:only-of-type {\n",
       "        vertical-align: middle;\n",
       "    }\n",
       "\n",
       "    .dataframe tbody tr th {\n",
       "        vertical-align: top;\n",
       "    }\n",
       "\n",
       "    .dataframe thead th {\n",
       "        text-align: right;\n",
       "    }\n",
       "</style>\n",
       "<table border=\"1\" class=\"dataframe\">\n",
       "  <thead>\n",
       "    <tr style=\"text-align: right;\">\n",
       "      <th></th>\n",
       "      <th>0</th>\n",
       "      <th>1</th>\n",
       "      <th>2</th>\n",
       "      <th>3</th>\n",
       "      <th>4</th>\n",
       "      <th>5</th>\n",
       "      <th>6</th>\n",
       "      <th>7</th>\n",
       "      <th>8</th>\n",
       "      <th>9</th>\n",
       "    </tr>\n",
       "  </thead>\n",
       "  <tbody>\n",
       "    <tr>\n",
       "      <th>0</th>\n",
       "      <td>-1.505335</td>\n",
       "      <td>2.453394</td>\n",
       "      <td>-4.075387</td>\n",
       "      <td>0.506457</td>\n",
       "      <td>2.099745</td>\n",
       "      <td>-6.931051</td>\n",
       "      <td>-0.168452</td>\n",
       "      <td>-0.310699</td>\n",
       "      <td>-0.018441</td>\n",
       "      <td>-4.934232</td>\n",
       "    </tr>\n",
       "    <tr>\n",
       "      <th>1</th>\n",
       "      <td>0.494729</td>\n",
       "      <td>2.499596</td>\n",
       "      <td>1.114845</td>\n",
       "      <td>0.424238</td>\n",
       "      <td>-1.877948</td>\n",
       "      <td>-1.296794</td>\n",
       "      <td>-1.740021</td>\n",
       "      <td>2.978778</td>\n",
       "      <td>-1.480376</td>\n",
       "      <td>-0.246117</td>\n",
       "    </tr>\n",
       "    <tr>\n",
       "      <th>2</th>\n",
       "      <td>-0.892449</td>\n",
       "      <td>-2.503452</td>\n",
       "      <td>-0.374558</td>\n",
       "      <td>3.173975</td>\n",
       "      <td>1.820951</td>\n",
       "      <td>2.757170</td>\n",
       "      <td>-0.067205</td>\n",
       "      <td>-4.549206</td>\n",
       "      <td>1.550991</td>\n",
       "      <td>0.084282</td>\n",
       "    </tr>\n",
       "  </tbody>\n",
       "</table>\n",
       "</div>"
      ],
      "text/plain": [
       "          0         1         2         3         4         5         6  \\\n",
       "0 -1.505335  2.453394 -4.075387  0.506457  2.099745 -6.931051 -0.168452   \n",
       "1  0.494729  2.499596  1.114845  0.424238 -1.877948 -1.296794 -1.740021   \n",
       "2 -0.892449 -2.503452 -0.374558  3.173975  1.820951  2.757170 -0.067205   \n",
       "\n",
       "          7         8         9  \n",
       "0 -0.310699 -0.018441 -4.934232  \n",
       "1  2.978778 -1.480376 -0.246117  \n",
       "2 -4.549206  1.550991  0.084282  "
      ]
     },
     "execution_count": 6,
     "metadata": {},
     "output_type": "execute_result"
    }
   ],
   "source": [
    "# pandas dataframe - table data structure\n",
    "df = pd.read_csv('temp.csv',header=None)\n",
    "df[:3] # slice like arrays"
   ]
  },
  {
   "cell_type": "code",
   "execution_count": 7,
   "metadata": {
    "scrolled": true
   },
   "outputs": [
    {
     "data": {
      "text/html": [
       "<div>\n",
       "<style scoped>\n",
       "    .dataframe tbody tr th:only-of-type {\n",
       "        vertical-align: middle;\n",
       "    }\n",
       "\n",
       "    .dataframe tbody tr th {\n",
       "        vertical-align: top;\n",
       "    }\n",
       "\n",
       "    .dataframe thead th {\n",
       "        text-align: right;\n",
       "    }\n",
       "</style>\n",
       "<table border=\"1\" class=\"dataframe\">\n",
       "  <thead>\n",
       "    <tr style=\"text-align: right;\">\n",
       "      <th></th>\n",
       "      <th>0</th>\n",
       "      <th>1</th>\n",
       "      <th>2</th>\n",
       "      <th>3</th>\n",
       "      <th>4</th>\n",
       "      <th>5</th>\n",
       "      <th>6</th>\n",
       "      <th>7</th>\n",
       "      <th>8</th>\n",
       "      <th>9</th>\n",
       "    </tr>\n",
       "  </thead>\n",
       "  <tbody>\n",
       "    <tr>\n",
       "      <th>661</th>\n",
       "      <td>1.599262</td>\n",
       "      <td>-0.134136</td>\n",
       "      <td>1.337225</td>\n",
       "      <td>-1.393118</td>\n",
       "      <td>-1.239683</td>\n",
       "      <td>1.524504</td>\n",
       "      <td>-0.695065</td>\n",
       "      <td>2.235754</td>\n",
       "      <td>-1.565070</td>\n",
       "      <td>1.882983</td>\n",
       "    </tr>\n",
       "    <tr>\n",
       "      <th>872</th>\n",
       "      <td>1.793567</td>\n",
       "      <td>-2.577107</td>\n",
       "      <td>0.044555</td>\n",
       "      <td>1.857821</td>\n",
       "      <td>-3.081358</td>\n",
       "      <td>-0.473291</td>\n",
       "      <td>-1.649679</td>\n",
       "      <td>3.156761</td>\n",
       "      <td>0.972401</td>\n",
       "      <td>0.442560</td>\n",
       "    </tr>\n",
       "    <tr>\n",
       "      <th>438</th>\n",
       "      <td>-0.995479</td>\n",
       "      <td>0.857734</td>\n",
       "      <td>-0.430812</td>\n",
       "      <td>1.530937</td>\n",
       "      <td>-2.297405</td>\n",
       "      <td>-1.713198</td>\n",
       "      <td>-0.933416</td>\n",
       "      <td>2.510584</td>\n",
       "      <td>-0.200683</td>\n",
       "      <td>-0.533570</td>\n",
       "    </tr>\n",
       "    <tr>\n",
       "      <th>297</th>\n",
       "      <td>0.741324</td>\n",
       "      <td>-1.107882</td>\n",
       "      <td>0.491351</td>\n",
       "      <td>5.416071</td>\n",
       "      <td>0.537480</td>\n",
       "      <td>0.532694</td>\n",
       "      <td>-2.655168</td>\n",
       "      <td>-2.767506</td>\n",
       "      <td>1.681681</td>\n",
       "      <td>-1.598722</td>\n",
       "    </tr>\n",
       "    <tr>\n",
       "      <th>826</th>\n",
       "      <td>-0.722987</td>\n",
       "      <td>3.969929</td>\n",
       "      <td>2.134354</td>\n",
       "      <td>0.944250</td>\n",
       "      <td>-0.338300</td>\n",
       "      <td>-0.240584</td>\n",
       "      <td>-1.042847</td>\n",
       "      <td>0.070664</td>\n",
       "      <td>-0.828876</td>\n",
       "      <td>-0.642765</td>\n",
       "    </tr>\n",
       "    <tr>\n",
       "      <th>123</th>\n",
       "      <td>0.674503</td>\n",
       "      <td>-1.634307</td>\n",
       "      <td>1.952596</td>\n",
       "      <td>1.747951</td>\n",
       "      <td>-0.960460</td>\n",
       "      <td>1.289346</td>\n",
       "      <td>0.424987</td>\n",
       "      <td>-1.322329</td>\n",
       "      <td>3.530124</td>\n",
       "      <td>0.097470</td>\n",
       "    </tr>\n",
       "    <tr>\n",
       "      <th>67</th>\n",
       "      <td>0.539935</td>\n",
       "      <td>0.913040</td>\n",
       "      <td>0.959802</td>\n",
       "      <td>-2.992410</td>\n",
       "      <td>-2.196798</td>\n",
       "      <td>-2.325524</td>\n",
       "      <td>1.798785</td>\n",
       "      <td>3.270741</td>\n",
       "      <td>1.657583</td>\n",
       "      <td>-0.118455</td>\n",
       "    </tr>\n",
       "    <tr>\n",
       "      <th>287</th>\n",
       "      <td>-1.554865</td>\n",
       "      <td>1.544594</td>\n",
       "      <td>-0.486678</td>\n",
       "      <td>3.563812</td>\n",
       "      <td>-1.088476</td>\n",
       "      <td>-2.533135</td>\n",
       "      <td>-1.295541</td>\n",
       "      <td>0.173552</td>\n",
       "      <td>1.091226</td>\n",
       "      <td>-2.291509</td>\n",
       "    </tr>\n",
       "    <tr>\n",
       "      <th>255</th>\n",
       "      <td>3.873505</td>\n",
       "      <td>-6.313239</td>\n",
       "      <td>0.109256</td>\n",
       "      <td>-0.669367</td>\n",
       "      <td>-0.994822</td>\n",
       "      <td>1.402197</td>\n",
       "      <td>0.608067</td>\n",
       "      <td>0.550045</td>\n",
       "      <td>3.317865</td>\n",
       "      <td>1.359758</td>\n",
       "    </tr>\n",
       "    <tr>\n",
       "      <th>973</th>\n",
       "      <td>0.611314</td>\n",
       "      <td>2.165181</td>\n",
       "      <td>0.587248</td>\n",
       "      <td>-2.745230</td>\n",
       "      <td>1.655220</td>\n",
       "      <td>-2.404931</td>\n",
       "      <td>1.667544</td>\n",
       "      <td>-0.844996</td>\n",
       "      <td>1.322658</td>\n",
       "      <td>-1.765189</td>\n",
       "    </tr>\n",
       "  </tbody>\n",
       "</table>\n",
       "</div>"
      ],
      "text/plain": [
       "            0         1         2         3         4         5         6  \\\n",
       "661  1.599262 -0.134136  1.337225 -1.393118 -1.239683  1.524504 -0.695065   \n",
       "872  1.793567 -2.577107  0.044555  1.857821 -3.081358 -0.473291 -1.649679   \n",
       "438 -0.995479  0.857734 -0.430812  1.530937 -2.297405 -1.713198 -0.933416   \n",
       "297  0.741324 -1.107882  0.491351  5.416071  0.537480  0.532694 -2.655168   \n",
       "826 -0.722987  3.969929  2.134354  0.944250 -0.338300 -0.240584 -1.042847   \n",
       "123  0.674503 -1.634307  1.952596  1.747951 -0.960460  1.289346  0.424987   \n",
       "67   0.539935  0.913040  0.959802 -2.992410 -2.196798 -2.325524  1.798785   \n",
       "287 -1.554865  1.544594 -0.486678  3.563812 -1.088476 -2.533135 -1.295541   \n",
       "255  3.873505 -6.313239  0.109256 -0.669367 -0.994822  1.402197  0.608067   \n",
       "973  0.611314  2.165181  0.587248 -2.745230  1.655220 -2.404931  1.667544   \n",
       "\n",
       "            7         8         9  \n",
       "661  2.235754 -1.565070  1.882983  \n",
       "872  3.156761  0.972401  0.442560  \n",
       "438  2.510584 -0.200683 -0.533570  \n",
       "297 -2.767506  1.681681 -1.598722  \n",
       "826  0.070664 -0.828876 -0.642765  \n",
       "123 -1.322329  3.530124  0.097470  \n",
       "67   3.270741  1.657583 -0.118455  \n",
       "287  0.173552  1.091226 -2.291509  \n",
       "255  0.550045  3.317865  1.359758  \n",
       "973 -0.844996  1.322658 -1.765189  "
      ]
     },
     "execution_count": 7,
     "metadata": {},
     "output_type": "execute_result"
    }
   ],
   "source": [
    "df.sample(10)"
   ]
  },
  {
   "cell_type": "code",
   "execution_count": 8,
   "metadata": {},
   "outputs": [
    {
     "data": {
      "text/plain": [
       "(10, 1000)"
      ]
     },
     "execution_count": 8,
     "metadata": {},
     "output_type": "execute_result"
    }
   ],
   "source": [
    "# re-load the Y matrix and convert dataframe to matrix\n",
    "Y = pd.read_csv('temp.csv',header=None).values.T\n",
    "Y.shape"
   ]
  },
  {
   "cell_type": "code",
   "execution_count": 9,
   "metadata": {},
   "outputs": [
    {
     "data": {
      "image/png": "[encoded data removed]",
      "text/plain": [
       "<Figure size 288x288 with 1 Axes>"
      ]
     },
     "metadata": {
      "needs_background": "light"
     },
     "output_type": "display_data"
    }
   ],
   "source": [
    "subplot(111,aspect='equal')\n",
    "plot(Y[0,:], Y[6,:], '.', alpha=0.2);"
   ]
  },
  {
   "cell_type": "code",
   "execution_count": 10,
   "metadata": {},
   "outputs": [
    {
     "data": {
      "image/png": "[encoded data removed]",
      "text/plain": [
       "<Figure size 288x288 with 1 Axes>"
      ]
     },
     "metadata": {
      "needs_background": "light"
     },
     "output_type": "display_data"
    }
   ],
   "source": [
    "from sklearn import decomposition\n",
    "pca = decomposition.PCA(n_components=Y.shape[0], whiten=False)\n",
    "B = pca.fit_transform(Y.T).T\n",
    "E, L = pca.components_.T, pca.explained_variance_\n",
    "\n",
    "subplot(1,1,1, aspect='equal')\n",
    "plot(B[0,:], B[5,:], '.', alpha=0.2);"
   ]
  },
  {
   "cell_type": "code",
   "execution_count": 11,
   "metadata": {},
   "outputs": [
    {
     "data": {
      "image/png": "[encoded data removed]",
      "text/plain": [
       "<Figure size 288x288 with 2 Axes>"
      ]
     },
     "metadata": {
      "needs_background": "light"
     },
     "output_type": "display_data"
    }
   ],
   "source": [
    "subplot(2,1,1); plot(L,'o-'); ylabel('Eigenvalues');\n",
    "subplot(2,1,2); cl=np.cumsum(L); ylabel('Total Variance');\n",
    "plot(cl/cl[-1],'o-r'); ylim(0,None);"
   ]
  },
  {
   "cell_type": "code",
   "execution_count": 12,
   "metadata": {},
   "outputs": [
    {
     "data": {
      "image/png": "[encoded data removed]",
      "text/plain": [
       "<Figure size 288x288 with 2 Axes>"
      ]
     },
     "metadata": {
      "needs_background": "light"
     },
     "output_type": "display_data"
    }
   ],
   "source": [
    "# plot orig and new covariance matrices (estimate w/o norm)\n",
    "ax=subplot(1,2,1); ax.matshow(Y @ Y.T); #Y.dot(Y.T) or np.dot(Y,Y.T)\n",
    "ax=subplot(1,2,2); ax.matshow(B @ B.T);"
   ]
  },
  {
   "cell_type": "code",
   "execution_count": 13,
   "metadata": {},
   "outputs": [
    {
     "data": {
      "image/png": "[encoded data removed]",
      "text/plain": [
       "<Figure size 288x288 with 2 Axes>"
      ]
     },
     "metadata": {
      "needs_background": "light"
     },
     "output_type": "display_data"
    }
   ],
   "source": [
    "A = B[:6,:]\n",
    "# plot new covariance matrices with and without truncation\n",
    "ax=subplot(121); ax.matshow(B @ B.T);\n",
    "ax=subplot(122); ax.matshow(A @ A.T);"
   ]
  },
  {
   "cell_type": "markdown",
   "metadata": {},
   "source": [
    "### Inverse of the Covariance Matrix\n",
    "\n",
    "- Appears in the multivariate normal distribution!\n",
    "\n",
    ">$\\displaystyle{\\cal{}N}(x;\\mu,C) = \\frac{1}{\\sqrt{\\det(2\\pi{}C)}}\\ \\exp\\left[-\\frac{1}{2}(x\\!-\\!\\mu)^T\\,C^{-1} (x\\!-\\!\\mu)\\right]$\n",
    "\n",
    "- Inverse of the diagonal eigenvalue matrix\n",
    "\n",
    ">$\\displaystyle \\Lambda^{-1} =  \\left( \\begin{array}{ccc}\n",
    "\\frac{1}{\\lambda_1} &  & \\cdots & 0\\\\\n",
    " & \\frac{1}{\\lambda_2} &   & \\vdots\\\\\n",
    "\\vdots &  & \\ddots &  \\\\\n",
    "0 & \\cdots &  & \\frac{1}{\\lambda_N} \\\\\n",
    "\\end{array} \\right)$\n",
    "\n",
    "- Inverse of the covariance matrix\n",
    "\n",
    ">$\\displaystyle C^{-1} = E\\ \\Lambda^{-1} E^T$\n",
    "\n",
    "- Also see pseudoinverse with small eigenvalues "
   ]
  },
  {
   "cell_type": "markdown",
   "metadata": {},
   "source": [
    "### Fitting Lines\n",
    "\n",
    "- What if $x$ and $y$ are both noisy? \n",
    "\n",
    "> For example, $\\big\\{(x_i,y_i)\\big\\}$ measurements have the same uncertainties. \n",
    "> The relevant residuals are perpendicular to the line.\n",
    "> Minimizing RMS of residuals is related to maximizing the sample variance along line!\n",
    "\n",
    "- Sounds like the PCA problem?"
   ]
  },
  {
   "cell_type": "markdown",
   "metadata": {
    "collapsed": true
   },
   "source": [
    "\n",
    "### Fitting Planes\n",
    "\n",
    "- Similarly, fitting a $K$-dimensional hyperplane in $N$ dimensions, i.e., looking for the $a$ normal vector to minimize residuals on set of centered $\\{x_i\\}$ vectors\n",
    "\n",
    "> Minimizing sum of square lengths of the residual vectors\n",
    "><br/><br/>\n",
    ">$\\displaystyle \\qquad \\min_a \\sum_i r_i^2(a) \\ \\ \\ \\ \\ $  where $\\ \\ \\ r_i(a) = x_i - \\left(a\\,a^T\\right)x_i$, \n",
    "><br/><br/>\n",
    "> yields \n",
    "><br/><br/>\n",
    ">$\\displaystyle \\qquad \\min_a \\ \\left[\\textrm{const} - \\sum_i a^T\\!\\!\\left(x_i x_i^T\\right) a\\right]$\n",
    "><br/>\n",
    "or\n",
    "><br/>\n",
    ">$\\displaystyle \\qquad \\max_a \\ a^T\\!\\left(\\sum_i x_i x_i^T\\right)\\, a $ \n",
    "><br/><br/>\n",
    "> cf. sample variance along $a$, if data already centered\n",
    "\n",
    "- Essentially same as the PCA problem!"
   ]
  },
  {
   "cell_type": "code",
   "execution_count": 14,
   "metadata": {},
   "outputs": [
    {
     "data": {
      "image/png": "[encoded data removed]",
      "text/plain": [
       "<Figure size 360x360 with 1 Axes>"
      ]
     },
     "metadata": {
      "needs_background": "light"
     },
     "output_type": "display_data"
    }
   ],
   "source": [
    "# generate 2D (column) vectors\n",
    "np.random.seed(seed=42);\n",
    "N = gaussian.rvs(0,1,(2,50)); \n",
    "N[0,:] *= 2 \n",
    "f = +pi/6   # rotate by 30 deg\n",
    "R = array([[cos(f), -sin(f)],\n",
    "           [sin(f),  cos(f)]]) \n",
    "X = R @ N\n",
    "\n",
    "figure(figsize=(5,5)); subplot(111,aspect='equal');\n",
    "plot(X[0,:],X[1,:],'x',alpha=0.6);"
   ]
  },
  {
   "cell_type": "code",
   "execution_count": 15,
   "metadata": {
    "scrolled": true
   },
   "outputs": [
    {
     "data": {
      "image/png": "[encoded data removed]",
      "text/plain": [
       "<Figure size 360x360 with 1 Axes>"
      ]
     },
     "metadata": {
      "needs_background": "light"
     },
     "output_type": "display_data"
    }
   ],
   "source": [
    "# project on 1st pricipal component\n",
    "X -= X.mean(axis=1, keepdims=True) \n",
    "E,_,_ = linalg.svd(X) # only the eigenvectors\n",
    "F = E[:,:1]           # truncated basis: only PC1\n",
    "P = F @ F.T @ X       # projection\n",
    "R = X - P             # residuals\n",
    "\n",
    "figure(figsize=(5,5)); subplot(111,aspect='equal');\n",
    "plot(X[0,:],X[1,:],'xb',alpha=0.6);\n",
    "plot(P[0,:],P[1,:],'or',alpha=0.4);\n",
    "quiver(P[0,:],P[1,:],R[0,:],R[1,:], alpha=0.2,\n",
    "    angles='xy',scale_units='xy',scale=1);"
   ]
  },
  {
   "cell_type": "markdown",
   "metadata": {},
   "source": [
    "### More on Fitting Later\n",
    "\n",
    "- Next: Bayesian inference"
   ]
  }
 ],
 "metadata": {
  "anaconda-cloud": {},
  "kernelspec": {
   "display_name": "Python 3",
   "language": "python",
   "name": "python3"
  },
  "language_info": {
   "codemirror_mode": {
    "name": "ipython",
    "version": 3
   },
   "file_extension": ".py",
   "mimetype": "text/x-python",
   "name": "python",
   "nbconvert_exporter": "python",
   "pygments_lexer": "ipython3",
   "version": "3.8.5"
  }
 },
 "nbformat": 4,
 "nbformat_minor": 1
}
